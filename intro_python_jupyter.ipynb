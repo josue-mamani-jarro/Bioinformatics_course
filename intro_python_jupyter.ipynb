{
 "cells": [
  {
   "cell_type": "markdown",
   "metadata": {},
   "source": [
    "# Introducción a Python y Jupyter Notebooks para el análisis de datos "
   ]
  },
  {
   "cell_type": "markdown",
   "metadata": {},
   "source": [
    "Este es un Notebook de Jupyter.\n",
    "Hay dos tipos de celdas:\n",
    "- Celdas de código: Predeterminadas para usar Python, pero puedes cambiar el lenguaje de la celda haciendo click en la esquina inferior derecha.\n",
    "- Celdas Markdown: que sirve para crear anotaciones y permite formatear el texto dentro de ellas."
   ]
  },
  {
   "cell_type": "markdown",
   "metadata": {},
   "source": [
    "## Markdown"
   ]
  },
  {
   "cell_type": "markdown",
   "metadata": {},
   "source": [
    "### Algunos codigos utiles para dar formato al texto en Markdown"
   ]
  },
  {
   "cell_type": "markdown",
   "metadata": {},
   "source": [
    "# Título 1\n",
    "## Título 2\n",
    "### Título 3\n",
    "#### Título 4\n",
    "##### Título 5\n"
   ]
  },
  {
   "cell_type": "markdown",
   "metadata": {},
   "source": [
    "**Texto en negrita**\n",
    "\n",
    "*Texto en cursiva*\n",
    "\n",
    "***Texto en negrita y cursiva***\n"
   ]
  },
  {
   "cell_type": "markdown",
   "metadata": {},
   "source": [
    "Listas no ordenadas: Usa -, * o +.\n",
    "\n",
    "- Elemento 1\n",
    "- Elemento 2\n",
    "  - Sub-elemento\n",
    "    - Sub-sub-elemento\n"
   ]
  },
  {
   "cell_type": "markdown",
   "metadata": {},
   "source": [
    "Listas ordenadas: Usa números seguidos de un punto.\n",
    "\n",
    "1. Primer elemento\n",
    "2. Segundo elemento\n",
    "   1. Sub-elemento\n",
    "   2. Sub-elemento"
   ]
  },
  {
   "cell_type": "markdown",
   "metadata": {},
   "source": [
    "Para escribir código en línea usa comillas invertidas:\n",
    "\n",
    "El comando para imprimir es `print()`.\n",
    "\n",
    "Para escribir código en bloque usa triple comillas invertidas:\n",
    "\n",
    "```python\n",
    "# Código en Python\n",
    "def suma(a, b):\n",
    "    return a + b\n",
    "print(suma(2, 3))\n",
    "```\n",
    "Aqui texto de nuevo\n"
   ]
  },
  {
   "cell_type": "markdown",
   "metadata": {},
   "source": [
    "Crear tablas:\n",
    "\n",
    "| Columna 1 | Columna 2 | Columna 3 |\n",
    "|-----------|-----------|-----------|\n",
    "| Dato 1    | Dato 2    | Dato 3    |\n",
    "| Dato A    | Dato B    | Dato C    |\n"
   ]
  },
  {
   "cell_type": "markdown",
   "metadata": {},
   "source": [
    "Crear enlaces de texto:\n",
    "    \n",
    "[Visita Python](https://www.python.org)\n"
   ]
  },
  {
   "cell_type": "markdown",
   "metadata": {},
   "source": [
    "Incluso puedes agregar imagenes:\n",
    "\n",
    "![Python Logo](https://www.python.org/static/community_logos/python-logo.png)"
   ]
  },
  {
   "cell_type": "markdown",
   "metadata": {},
   "source": [
    "Usa una barra invertida \\ para mostrar caracteres literales (como *, _, etc.).\n",
    "\n",
    "Esto es un asterisco literal: \\*"
   ]
  },
  {
   "cell_type": "markdown",
   "metadata": {},
   "source": [
    "Para agregar citas usa \\<\n",
    "> Este es un texto en formato de cita\n",
    "> \n",
    "> Puede tener varias líneas."
   ]
  },
  {
   "cell_type": "markdown",
   "metadata": {},
   "source": [
    "Usa --- o *** para crear líneas horizontales."
   ]
  },
  {
   "cell_type": "markdown",
   "metadata": {},
   "source": [
    "***"
   ]
  },
  {
   "cell_type": "markdown",
   "metadata": {},
   "source": [
    "## Algunas extenciones importantes en VSCode:"
   ]
  },
  {
   "cell_type": "markdown",
   "metadata": {},
   "source": [
    "`Python`: Soporte para el uso de lenguje python\n",
    "\n",
    "`Pylance`: Mejora la experiencia de escritura de código en Python con autocompletado avanzado.\n",
    "\n",
    "`Jupyter`: Soporte para el uso de Jupyter dento de VSCode\n",
    "\n",
    "`WSL`: Usa WSL en VSCode\n",
    "\n",
    "`Bash IDE`: Soporte para escribir scripts en Bash\n",
    "\n",
    "`Data Wrangler`: para visualizar las bases y tablas de datos dentro de VSCode\n",
    "\n",
    "`R`: Soporte para el uso de R\n",
    "\n",
    "`R Tools`: para faciliar el uso de R en VScode"
   ]
  }
 ],
 "metadata": {
  "kernelspec": {
   "display_name": "python_test",
   "language": "python",
   "name": "python3"
  },
  "language_info": {
   "name": "python",
   "version": "3.9.18"
  }
 },
 "nbformat": 4,
 "nbformat_minor": 2
}
