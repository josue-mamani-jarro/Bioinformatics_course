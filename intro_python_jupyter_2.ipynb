{
 "cells": [
  {
   "cell_type": "markdown",
   "metadata": {},
   "source": [
    "# Introducción a Python y Jupyter Notebooks para el análisis de datos "
   ]
  },
  {
   "cell_type": "markdown",
   "metadata": {},
   "source": [
    "## Introducción\n",
    "\n",
    "Python es un lenguaje de programación poderoso, flexible y fácil de aprender que ha ganado popularidad en la biología debido a su amplia gama de aplicaciones, desde análisis de secuencias hasta modelado ecológico."
   ]
  },
  {
   "cell_type": "markdown",
   "metadata": {},
   "source": [
    "### ¿Por qué Python es útil para los biólogos?\n",
    "\n",
    "Simplicidad: Su sintaxis es intuitiva y fácil de leer, incluso para quienes no tienen experiencia en programación.\n",
    "\n",
    "Bibliotecas Especializadas: Python tiene bibliotecas específicas para bioinformática y análisis de datos, como:\n",
    "\n",
    "`Biopython`: Herramientas para trabajar con secuencias, alineamientos y archivos de bases de datos biológicas.\n",
    "\n",
    "`Pandas`: Manejo de grandes conjuntos de datos.\n",
    "\n",
    "`NumPy`: Cálculo matemático y manejo eficiente de matrices.\n",
    "\n",
    "`Matplotlib` y `Seaborn`: Generación de gráficos y visualización de datos.\n",
    "\n",
    "Comunidad Activa: Una gran cantidad de recursos y foros donde se pueden encontrar soluciones a problemas comúnmente enfrentados."
   ]
  },
  {
   "cell_type": "code",
   "execution_count": null,
   "metadata": {},
   "outputs": [],
   "source": [
    "print(\"Hola, mundo biológico!\")"
   ]
  },
  {
   "cell_type": "markdown",
   "metadata": {},
   "source": [
    "Es importante que practiques por tu cuenta para aprender mas sobre python y sus usos en biología\n",
    "\n",
    "Este es uno de los recursos mas interesantes disponibles en la web: [Rosalind](https://rosalind.info/problems/locations/)\n",
    "\n",
    "Una vez tengas los conceptos basicos podras explorar mas por tu cuenta y buscar solucion a los problemas propuestos en Rosalind."
   ]
  },
  {
   "cell_type": "markdown",
   "metadata": {},
   "source": [
    "### Conceptos Básicos de Python"
   ]
  },
  {
   "cell_type": "markdown",
   "metadata": {},
   "source": [
    "#### Tipos de variables y operaciones"
   ]
  },
  {
   "cell_type": "markdown",
   "metadata": {},
   "source": [
    "##### Variables\n",
    "\n",
    "En Python, una variable es un contenedor que almacena un valor. Este valor puede cambiar durante la ejecución del programa. Las variables permiten referirse a datos de forma sencilla utilizando nombres, en lugar de los propios valores."
   ]
  },
  {
   "cell_type": "code",
   "execution_count": 3,
   "metadata": {},
   "outputs": [],
   "source": [
    "# Declarar una variable:\n",
    "a = 4\n",
    "a = 3 # Se sobreescribe\n",
    "\n",
    "A = 0.1\n",
    "\n",
    "# No se sobreescribe porque Python es Case Sensitive"
   ]
  },
  {
   "cell_type": "code",
   "execution_count": 7,
   "metadata": {},
   "outputs": [],
   "source": [
    "dato = 5"
   ]
  },
  {
   "cell_type": "code",
   "execution_count": null,
   "metadata": {},
   "outputs": [],
   "source": [
    "print(\"dato\")\n",
    "print(dato)"
   ]
  },
  {
   "cell_type": "code",
   "execution_count": null,
   "metadata": {},
   "outputs": [],
   "source": [
    "print(a)\n",
    "print(A)\n"
   ]
  },
  {
   "cell_type": "markdown",
   "metadata": {},
   "source": [
    "Algunas reglas sobre el nombre de las variables:\n",
    "\n",
    "- Un nombre de variable debe comenzar con una letra o el carácter de guion bajo (_).\n",
    "- Un nombre de variable no puede comenzar con un número.\n",
    "- Un nombre de variable solo puede contener caracteres alfanuméricos y guiones bajos (A-z, 0-9 y _).\n",
    "- Los nombres de variables distinguen entre mayúsculas y minúsculas (por ejemplo, age, Age y AGE son tres variables diferentes).\n",
    "- Un nombre de variable no puede ser ninguna de las palabras clave reservadas de Python."
   ]
  },
  {
   "cell_type": "code",
   "execution_count": null,
   "metadata": {},
   "outputs": [],
   "source": [
    "_15 = 5\n",
    "print(_15)"
   ]
  },
  {
   "cell_type": "markdown",
   "metadata": {},
   "source": [
    "##### Tipos de variables\n",
    "\n",
    "Python tiene los siguientes tipos de variables, en estas categorias:\n",
    "\n",
    "- Numeric Types:\t`int`, `float`, `complex`\n",
    "- Text Type:\t`str`\n",
    "- Boolean Type:\t`bool`\n",
    "- Sequence Types:\t`list`, `tuple`, `range`\n",
    "- Set Types:\t`set`, `frozenset`\n",
    "- Mapping Type:\t`dict`\n",
    "- Binary Types:\t`bytes`, `bytearray`, `memoryview`\n",
    "- None Type:\t`NoneType`"
   ]
  },
  {
   "cell_type": "markdown",
   "metadata": {},
   "source": [
    "##### **1. Numéricas (Numerical)**: \n",
    "\n",
    "- int (entero / **integer**): Números enteros positivos o negativos, sin decimales.\n",
    "- float (flotante / floating-point): Números reales con decimales.\n",
    "- complex (complejo / complex): Números complejos con parte real e imaginaria."
   ]
  },
  {
   "cell_type": "code",
   "execution_count": 12,
   "metadata": {},
   "outputs": [],
   "source": [
    "x = 10  # int\n",
    "\"x = 1\" # esto es un comentario\n",
    "y = 3.14  # float\n",
    "\n",
    "z = 1 + 2j  # complex\n"
   ]
  },
  {
   "cell_type": "code",
   "execution_count": null,
   "metadata": {},
   "outputs": [],
   "source": [
    "print(x)\n",
    "print(y)\n",
    "print(z)"
   ]
  },
  {
   "cell_type": "code",
   "execution_count": null,
   "metadata": {},
   "outputs": [],
   "source": [
    "print (\"x\")"
   ]
  },
  {
   "cell_type": "code",
   "execution_count": null,
   "metadata": {},
   "outputs": [],
   "source": [
    "print(type(x))"
   ]
  },
  {
   "cell_type": "code",
   "execution_count": null,
   "metadata": {},
   "outputs": [],
   "source": [
    "# Si quiero saber el tipo de una variable puedo usar la función type()\n",
    "\n",
    "print(type(x))\n",
    "print(type(y))\n",
    "print(type(z))"
   ]
  },
  {
   "cell_type": "code",
   "execution_count": null,
   "metadata": {},
   "outputs": [],
   "source": [
    "# números en notacion cientifica tambien son floats:\n",
    "\n",
    "x = 35e3\n",
    "y = 12E4\n",
    "z = -87.7e100\n",
    "\n",
    "print(type(x))\n",
    "print(type(y))\n",
    "print(type(z))"
   ]
  },
  {
   "cell_type": "markdown",
   "metadata": {},
   "source": [
    "#### Opedores aritméticos\n",
    "\n",
    "los operadores son símbolos o palabras reservadas que se utilizan para realizar operaciones sobre valores o variables. Estos operadores se clasifican según el tipo de operación que realizan.\n",
    "\n",
    "Operadores aritméticos (Arithmetic Operators): Se utilizan para realizar operaciones matemáticas básicas.\n"
   ]
  },
  {
   "cell_type": "markdown",
   "metadata": {},
   "source": [
    "|Operador|\tDescripción (Español)    | Descripción (Inglés)|  Ejemplo |\n",
    "|--------|---------------------------|---------------------|----------|\n",
    "| +      | Suma\t                     | Addition\t           |  x + y   |\n",
    "| -      | Resta\t                 | Subtraction\t       |  x - y   |\n",
    "| *\t     | Multiplicación\t         | Multiplication      |  x * y   |\n",
    "| /\t     | División\t                 | Division\t           |  x / y   |\n",
    "| %\t     | Módulo (resto de división)| Modulus\t           |  x % y   |\n",
    "| **     | Potenciación\t             | Exponentiation      |  x ** y  |\n",
    "| //     | División entera\t         | Floor Division      |  x // y  |\n"
   ]
  },
  {
   "cell_type": "code",
   "execution_count": 24,
   "metadata": {},
   "outputs": [],
   "source": [
    "x = 40\n",
    "y = 3\n",
    "z = 5"
   ]
  },
  {
   "cell_type": "code",
   "execution_count": null,
   "metadata": {},
   "outputs": [],
   "source": [
    "x % y"
   ]
  },
  {
   "cell_type": "code",
   "execution_count": null,
   "metadata": {},
   "outputs": [],
   "source": [
    "g = ((5+x) * 2)/3\n",
    "print(type(g))\n",
    "print(g)\n",
    "\n",
    "g - 10\n",
    "\n",
    "h = int(g)\n",
    "print(h)\n",
    "print(type(h))"
   ]
  },
  {
   "cell_type": "code",
   "execution_count": null,
   "metadata": {},
   "outputs": [],
   "source": [
    "# las variables se pueden reasignar\n",
    "x = 40\n",
    "x = x + 1\n",
    "print(x)"
   ]
  },
  {
   "cell_type": "code",
   "execution_count": null,
   "metadata": {},
   "outputs": [],
   "source": [
    "# tambien puedes transformar un tipo de variable a otro\n",
    "\n",
    "x = 1    # int\n",
    "y = 2.8  # float\n",
    "z = 1j   # complex\n",
    "\n",
    "#convert from int to float:\n",
    "a = float(x)\n",
    "\n",
    "#convert from float to int:\n",
    "b = int(y)\n",
    "\n",
    "#convert from int to complex:\n",
    "c = complex(x)\n",
    "\n",
    "print(a)\n",
    "print(b)\n",
    "print(c)\n",
    "\n",
    "print(type(a))\n",
    "print(type(b))\n",
    "print(type(c))"
   ]
  },
  {
   "cell_type": "markdown",
   "metadata": {},
   "source": [
    "##### 2. Cadenas de texto (Strings):\n",
    "\n",
    "- str (cadena / string): Secuencia de caracteres encerrada entre comillas simples (') o dobles (\")."
   ]
  },
  {
   "cell_type": "code",
   "execution_count": null,
   "metadata": {},
   "outputs": [],
   "source": [
    "# Doble comilla\n",
    "saludo = \"Hola, mundo!\"  # str\n",
    "# Comilla simple\n",
    "nombre = 'Juan'\n",
    "# Comillas dentro de la variable\n",
    "mensaje = \"Juan dijo 'Hola'\"\n",
    "\n",
    "print(saludo)\n",
    "print(nombre)\n",
    "print(mensaje)\n",
    "\n",
    "# tipo\n",
    "print(type(saludo))\n",
    "print(type(nombre))\n",
    "print(type(mensaje))"
   ]
  },
  {
   "cell_type": "code",
   "execution_count": null,
   "metadata": {},
   "outputs": [],
   "source": [
    "# asignación múltiple\n",
    "\n",
    "f, g, h = \"La Paz\", \"Santa Cruz\", \"Oruro\" # f = \"La Paz\", g = \"Santa Cruz\", h = \"Oruro\"\n",
    "\n",
    "print(f)\n",
    "print(g)\n",
    "print(h)"
   ]
  },
  {
   "cell_type": "code",
   "execution_count": null,
   "metadata": {},
   "outputs": [],
   "source": [
    "# Asignar el mismo valor a multiples variables:\n",
    "i = j = k = \"Cochamamba\"\n",
    "print(i)\n",
    "print(j)\n",
    "print(k)"
   ]
  },
  {
   "cell_type": "code",
   "execution_count": null,
   "metadata": {},
   "outputs": [],
   "source": [
    "# Se puede asignar multiples strings a una variable\n",
    "# se debe usar tres comillas dobles o simples\n",
    "\n",
    "a = \"\"\"Algo, que ciertamente no se nombra\t\t\n",
    "con la palabra azar, rige estas cosas:\t\t\n",
    "otro ya recibió en otras borrosas tardes,\t\t\n",
    "los muchos libros y las sombras.\"\"\"\n",
    "print(a)"
   ]
  },
  {
   "cell_type": "code",
   "execution_count": null,
   "metadata": {},
   "outputs": [],
   "source": [
    "# Corte (Slicing) en Python: Puedes devolver un rango de caracteres utilizando la sintaxis de slicing (corte).\n",
    "# Debes especificar el índice de inicio y el índice de fin, separados por dos puntos (:), para obtener una parte de la cadena\n",
    "# el indice comienza en 0\n",
    "\n",
    "b = \"Hello, World!\"\n",
    "print(b[1:5])\n",
    "\n",
    "# Slice desde el inicio\n",
    "b = \"Hello, World!\"\n",
    "print(b[:5])\n",
    "\n",
    "# Slice hasta el final\n",
    "b = \"Hello, World!\"\n",
    "print(b[5:])\n"
   ]
  },
  {
   "cell_type": "code",
   "execution_count": null,
   "metadata": {},
   "outputs": [],
   "source": [
    "b = \"Hello, World!\"\n",
    "print(b[5:])"
   ]
  },
  {
   "cell_type": "markdown",
   "metadata": {},
   "source": [
    "##### 3. Booleanos (Booleans):\n",
    "\n",
    "- bool (booleano / boolean): Representa valores de verdad, True (verdadero) o False (falso)."
   ]
  },
  {
   "cell_type": "code",
   "execution_count": 83,
   "metadata": {},
   "outputs": [],
   "source": [
    "Positivo = True  # bool\n",
    "\n",
    "Negativo = False # bool"
   ]
  },
  {
   "cell_type": "markdown",
   "metadata": {},
   "source": [
    "Operadores de comparación (Comparison Operators): Comparan dos valores y devuelven un resultado booleano (True o False).\n"
   ]
  },
  {
   "cell_type": "markdown",
   "metadata": {},
   "source": [
    "|Operador |\tDescripción (Español) |\tDescripción (Inglés)     | Ejemplo |\n",
    "|---------|-----------------------|--------------------------|---------|\n",
    "|==\t      | Igual a               |\tEqual to                 |\tx == y |\n",
    "|!=\t      | Distinto de           |\tNot equal to             |\tx != y |\n",
    "|>\t      | Mayor que             | Greater than\t         | x > y   |\n",
    "|<\t      | Menor que\t          | Less than\t             | x < y   |\n",
    "|>=\t      | Mayor o igual que     | Greater than or equal to |\tx >= y |\n",
    "|<=       | Menor o igual que     | Less than or equal to    |\tx <= y |"
   ]
  },
  {
   "cell_type": "code",
   "execution_count": null,
   "metadata": {},
   "outputs": [],
   "source": [
    "x =(10*3/5)\n",
    "print(x)\n",
    "\n",
    "print(x > 9)\n",
    "print(x == 9)\n",
    "print(x < 9)"
   ]
  },
  {
   "cell_type": "code",
   "execution_count": null,
   "metadata": {},
   "outputs": [],
   "source": [
    "# if and else\n",
    "\n",
    "a = 200\n",
    "b = 3\n",
    "\n",
    "if b > a:\n",
    "  print(\"b es mayor que a\")\n",
    "else:\n",
    "  print(\"b es menor que a\")"
   ]
  },
  {
   "cell_type": "code",
   "execution_count": null,
   "metadata": {},
   "outputs": [],
   "source": [
    "print(bool(\"Hello\"))\n",
    "print(bool(15))"
   ]
  },
  {
   "cell_type": "code",
   "execution_count": null,
   "metadata": {},
   "outputs": [],
   "source": [
    "x = \"\" # cualquier string es True a menos que este vacio \"\"\n",
    "y = 0 # cualquier numero diferente de 0 es True\n",
    "\n",
    "print(bool(x))\n",
    "print(bool(y))"
   ]
  },
  {
   "cell_type": "code",
   "execution_count": null,
   "metadata": {},
   "outputs": [],
   "source": [
    "# if and elif\n",
    "# elif es una abreviatura de else if\n",
    "# \"if the previous conditions were not true, then try this condition\".\n",
    "a = 33\n",
    "b = 33\n",
    "if b > a:\n",
    "  print(\"b es mayor a a\")\n",
    "elif a == b:\n",
    "  print(\"a y b son iguales\")"
   ]
  },
  {
   "cell_type": "code",
   "execution_count": null,
   "metadata": {},
   "outputs": [],
   "source": [
    "# else captara cualquier cosa que no haya sido capturada por los if y elif anteriores\n",
    "a = 200\n",
    "b = 33\n",
    "if b > a:\n",
    "  print(\"b is greater than a\")\n",
    "elif a == b:\n",
    "  print(\"a and b are equal\")\n",
    "else:\n",
    "  print(\"a is greater than b\")"
   ]
  },
  {
   "cell_type": "code",
   "execution_count": null,
   "metadata": {},
   "outputs": [],
   "source": [
    "# anidando if\n",
    "\n",
    "x = 21\n",
    "\n",
    "if x > 10:\n",
    "  print(\"x es mayor a 10,\")\n",
    "  if x > 20:\n",
    "    print(\"y tambien mayor a 20!\")\n",
    "  else:\n",
    "    print(\"pero no mayor a 20.\")"
   ]
  },
  {
   "cell_type": "code",
   "execution_count": 110,
   "metadata": {},
   "outputs": [],
   "source": [
    "# cuando usas if no puedes dejar el bloque vacio, si no quieres hacer nada puedes usar pass\n",
    "\n",
    "a = 33\n",
    "b = 200\n",
    "\n",
    "if b > a:\n",
    "  pass"
   ]
  },
  {
   "cell_type": "markdown",
   "metadata": {},
   "source": [
    "| Operator |\tDescription|\tExample|\n",
    "|--------|--------|--------|\n",
    "| and |\tReturns True if both statements are true |\tx < 5 and  x < 10\t|\n",
    "| or |\tReturns True if one of the statements is true |\tx < 5 or x < 4\t|\n",
    "| not |\tReverse the result, returns False if the result is true |\tnot(x < 5 and x < 10)|"
   ]
  },
  {
   "cell_type": "code",
   "execution_count": null,
   "metadata": {},
   "outputs": [],
   "source": [
    "x = 10\n",
    "\n",
    "print(x > 3 and x <= 10)"
   ]
  },
  {
   "cell_type": "code",
   "execution_count": null,
   "metadata": {},
   "outputs": [],
   "source": [
    "# and es un operador lógico que retorna True si ambos enunciados son verdaderos\n",
    "a = 200\n",
    "b = 33\n",
    "c = 500\n",
    "if a > b and c > a:\n",
    "  print(\"Both conditions are True\")"
   ]
  },
  {
   "cell_type": "code",
   "execution_count": null,
   "metadata": {},
   "outputs": [],
   "source": [
    "x = 5\n",
    "\n",
    "print(x > 3 or x < 4)"
   ]
  },
  {
   "cell_type": "code",
   "execution_count": null,
   "metadata": {},
   "outputs": [],
   "source": [
    "# or es un operador lógico que devuelve True si cualquiera de las declaraciones es verdadera\n",
    "a = 200\n",
    "b = 33\n",
    "c = 500\n",
    "if a > b or a > c:\n",
    "  print(\"al menos una de las condiciones es verdadera\")\n",
    "else:\n",
    "  print(\"Ninguna de las condiciones es verdadera\")"
   ]
  },
  {
   "cell_type": "code",
   "execution_count": null,
   "metadata": {},
   "outputs": [],
   "source": [
    "x = 5\n",
    "\n",
    "print(not(x > 3 and x < 10))"
   ]
  },
  {
   "cell_type": "code",
   "execution_count": null,
   "metadata": {},
   "outputs": [],
   "source": [
    "# not revierte el resultado, si es True lo convierte en False y viceversa\n",
    "a = 33\n",
    "b = 200\n",
    "if not a > b:\n",
    "  print(\"a is NOT greater than b\")"
   ]
  },
  {
   "cell_type": "markdown",
   "metadata": {},
   "source": [
    "##### 4. Secuencias (Sequences):\n",
    "\n",
    "- list (lista / list): Colección ordenada de elementos mutables (pueden cambiarse).\n",
    "- tuple (tupla / tuple): Colección ordenada de elementos inmutables.\n",
    "- range (rango / range): Representa un rango de números."
   ]
  },
  {
   "cell_type": "code",
   "execution_count": 134,
   "metadata": {},
   "outputs": [],
   "source": [
    "frutas = [\"manzana\", \"banana\", \"cereza\"]  # list\n",
    "\n",
    "coordenadas = (10, 20)  # tuple\n",
    "\n",
    "numeros = range(6)  # range 0, 1, 2, 3, 4"
   ]
  },
  {
   "cell_type": "code",
   "execution_count": null,
   "metadata": {},
   "outputs": [],
   "source": [
    "print(frutas)\n",
    "print(coordenadas)\n",
    "print(numeros)"
   ]
  },
  {
   "cell_type": "code",
   "execution_count": null,
   "metadata": {},
   "outputs": [],
   "source": [
    "print(type(frutas))\n",
    "print(type(coordenadas))\n",
    "print(type(numeros))"
   ]
  },
  {
   "cell_type": "code",
   "execution_count": null,
   "metadata": {},
   "outputs": [],
   "source": [
    "print(list(numeros))"
   ]
  },
  {
   "cell_type": "code",
   "execution_count": null,
   "metadata": {},
   "outputs": [],
   "source": [
    "# los tuples permiten valores duplicados\n",
    "# a diferencia de las listas que no permiten valores duplicados\n",
    "# los tuples son inmutables\n",
    "# se usan () en lugar de []\n",
    "\n",
    "thistuple = (\"apple\", \"banana\", \"cherry\", \"apple\", \"cherry\")\n",
    "print(thistuple)\n",
    "print(type(thistuple))"
   ]
  },
  {
   "cell_type": "code",
   "execution_count": null,
   "metadata": {},
   "outputs": [],
   "source": [
    "# el largo de una tupla:\n",
    "thistuple = (\"apple\", \"banana\", \"cherry\")\n",
    "print(len(thistuple))"
   ]
  },
  {
   "cell_type": "code",
   "execution_count": null,
   "metadata": {},
   "outputs": [],
   "source": [
    "# un string con una coma al final se convierte en un tuple\n",
    "thistuple = (\"apple\",)\n",
    "print(type(thistuple))\n",
    "\n",
    "#NOT a tuple\n",
    "thistuple = (\"apple\")\n",
    "print(type(thistuple))"
   ]
  },
  {
   "cell_type": "code",
   "execution_count": 160,
   "metadata": {},
   "outputs": [],
   "source": [
    "# los tuples pueden tener diferentes tipos de datos:\n",
    "tuple1 = (\"apple\", \"banana\", \"cherry\")\n",
    "tuple2 = (1, 5, 7, 9, 3)\n",
    "tuple3 = (True, False, False)"
   ]
  },
  {
   "cell_type": "code",
   "execution_count": 161,
   "metadata": {},
   "outputs": [],
   "source": [
    "tuple1 = (\"abc\", 34, True, 40, \"male\")"
   ]
  },
  {
   "cell_type": "code",
   "execution_count": null,
   "metadata": {},
   "outputs": [],
   "source": [
    "mytuple = (\"apple\", \"banana\", \"cherry\")\n",
    "print(type(mytuple))"
   ]
  },
  {
   "cell_type": "code",
   "execution_count": null,
   "metadata": {},
   "outputs": [],
   "source": [
    "# Asignar una lista a multiples variables:\n",
    "\n",
    "Ciudades_Bolivia = [\"La Paz\", \"Cochabamba\", \"Santa_Cruz\", \"Oruro\", \"Potosi\", \"Tarija\", \"Sucre\", \"Beni\", \"Pando\"]\n",
    "l, m, n, o, p, q, r, s, t = Ciudades_Bolivia\n",
    "\n",
    "print(l)\n",
    "print(m)\n",
    "print(n)\n",
    "print(o)\n",
    "print(p)\n",
    "print(q)\n",
    "print(r)\n",
    "print(s)\n",
    "print(t)"
   ]
  },
  {
   "cell_type": "code",
   "execution_count": null,
   "metadata": {},
   "outputs": [],
   "source": [
    "print(l, m, n, o, p, q, r, s, t)"
   ]
  },
  {
   "cell_type": "markdown",
   "metadata": {},
   "source": [
    "\"Is\" e \"is not\"\n",
    "\n",
    "| Operator |\tDescription |\tExample |\n",
    "|----------|----------------|-----------|\n",
    "| is |\tReturns True if both variables are the same object|\tx is y\t|\n",
    "| is not|\tReturns True if both variables are not the same| object\tx is not y|"
   ]
  },
  {
   "cell_type": "code",
   "execution_count": null,
   "metadata": {},
   "outputs": [],
   "source": [
    "x = [\"apple\", \"banana\"]\n",
    "print(type(x))"
   ]
  },
  {
   "cell_type": "code",
   "execution_count": null,
   "metadata": {},
   "outputs": [],
   "source": [
    "x = [\"apple\", \"banana\"]\n",
    "y = [\"apple\", \"banana\"]\n",
    "z = x\n",
    "\n",
    "print(x is z)\n",
    "\n",
    "# True z es el mismo objeto que x\n",
    "\n",
    "print(x is y)\n",
    "\n",
    "# False porque x no es el mismo objeto que y, incluso si tienen el mismo contenido\n",
    "\n",
    "print(x == y)\n",
    "\n",
    "# la difenrencia entre \"is\" y \"!=\": este ultimo compara el contenido de las variables"
   ]
  },
  {
   "cell_type": "code",
   "execution_count": null,
   "metadata": {},
   "outputs": [],
   "source": [
    "x = [\"apple\", \"banana\"]\n",
    "y = [\"apple\", \"banana\"]\n",
    "z = x\n",
    "\n",
    "print(x is not z)\n",
    "\n",
    "# False por que z es el mismo objeto que x\n",
    "\n",
    "print(x is not y)\n",
    "\n",
    "# True porque x no es el mismo objeto que y, incluso si tienen el mismo contenido\n",
    "\n",
    "print(x != y)\n",
    "\n",
    "# la difenrencia entre \"is not\" y \"!=\": este ultimo compara el contenido de las variables"
   ]
  },
  {
   "cell_type": "markdown",
   "metadata": {},
   "source": [
    "##### While loop"
   ]
  },
  {
   "cell_type": "code",
   "execution_count": null,
   "metadata": {},
   "outputs": [],
   "source": [
    "# while loop: (mientras)\n",
    "# Con el bucle while podemos ejecutar un conjunto de declaraciones siempre que una condición sea verdadera.\n",
    "\n",
    "i = 1\n",
    "while i <= 6:\n",
    "  print(i)\n",
    "  i += 1"
   ]
  },
  {
   "cell_type": "code",
   "execution_count": null,
   "metadata": {},
   "outputs": [],
   "source": [
    "# con \"brake\" se puede detener el bucle antes de que se cumpla la condición\n",
    "\n",
    "i = 1\n",
    "while i <= 6:\n",
    "  print(i)\n",
    "  if i == 3:\n",
    "    break\n",
    "  i += 1"
   ]
  },
  {
   "cell_type": "code",
   "execution_count": null,
   "metadata": {},
   "outputs": [],
   "source": [
    "# con #continue\" se puede detener la iteración actual y continuar con la siguiente\n",
    "i = 0\n",
    "while i < 6:\n",
    "  i += 1\n",
    "  if i == 3:\n",
    "    continue\n",
    "  print(i)"
   ]
  },
  {
   "cell_type": "code",
   "execution_count": null,
   "metadata": {},
   "outputs": [],
   "source": [
    "# con \"else\" podemos ejecutar un bloque de código una vez que la condición ya no es verdadera\n",
    "i = 1\n",
    "while i < 6:\n",
    "  print(i)\n",
    "  i += 1\n",
    "else:\n",
    "  print(\"i is no longer less than 6\")"
   ]
  },
  {
   "cell_type": "markdown",
   "metadata": {},
   "source": [
    "##### for loop"
   ]
  },
  {
   "cell_type": "code",
   "execution_count": null,
   "metadata": {},
   "outputs": [],
   "source": [
    "# for loop: se utiliza para iterar sobre una secuencia (una lista, una tupla, un diccionario, un conjunto o una cadena).\n",
    "\n",
    "# por ejemplo, para imprimir cada fruta en una lista de frutas\n",
    "fruits = [\"apple\", \"banana\", \"cherry\"]\n",
    "for x in fruits:\n",
    "  print(x)\n",
    "  \n",
    "print(fruits)"
   ]
  },
  {
   "cell_type": "code",
   "execution_count": null,
   "metadata": {},
   "outputs": [],
   "source": [
    "# en un string se puede iterar letra por letra\n",
    "for x in \"banana\":\n",
    "  print(x)"
   ]
  },
  {
   "cell_type": "code",
   "execution_count": null,
   "metadata": {},
   "outputs": [],
   "source": [
    "# break se puede usar para detener el bucle antes de que haya recorrido todos los elementos\n",
    "fruits = [\"apple\", \"banana\", \"cherry\"]\n",
    "for x in fruits:\n",
    "  print(x)\n",
    "  if x == \"banana\":\n",
    "    break"
   ]
  },
  {
   "cell_type": "code",
   "execution_count": null,
   "metadata": {},
   "outputs": [],
   "source": [
    "# detener antes de banana\n",
    "fruits = [\"apple\", \"orange\", \"banana\", \"cherry\"]\n",
    "for x in fruits:\n",
    "  if x == \"banana\":\n",
    "    break\n",
    "  print(x)"
   ]
  },
  {
   "cell_type": "code",
   "execution_count": null,
   "metadata": {},
   "outputs": [],
   "source": [
    "# con \"continue\" se puede detener la iteración actual y continuar con la siguiente\n",
    "fruits = [\"apple\", \"banana\", \"cherry\"]\n",
    "for x in fruits:\n",
    "  if x == \"banana\":\n",
    "    continue\n",
    "  print(x)"
   ]
  },
  {
   "cell_type": "markdown",
   "metadata": {},
   "source": [
    "---"
   ]
  },
  {
   "cell_type": "code",
   "execution_count": null,
   "metadata": {},
   "outputs": [],
   "source": [
    "A1 = \"Hello\"\n",
    "B1 = \"World\"\n",
    "print(A1, B1)\n",
    "print('Hello', 'World')\n",
    "print(A1 + B1)\n",
    "print(A1 + \" \" + B1 + \"!\")\n",
    "\n",
    "# print(A1 + 1) # + no se puede usar con numeros o variables numericas"
   ]
  },
  {
   "cell_type": "code",
   "execution_count": null,
   "metadata": {},
   "outputs": [],
   "source": [
    "# las variables pueden ser globales o locales\n",
    "\n",
    "# variable global\n",
    "x = \"awesome\"\n",
    "\n",
    "# variable local\n",
    "# definida dentro de una función:\n",
    "\n",
    "# Definir una funcion\n",
    "def myfunc():\n",
    "  x = \"fantastic\"          # nota que aqui hay identación, es decir, la variable x es local\n",
    "  print(\"Python is \" + x)\n",
    "\n",
    "# Llamar a la función\n",
    "myfunc()\n",
    "\n",
    "# Esto esta fuera de la funcion, por lo que la variable x es global\n",
    "print(\"Python is \" + x)"
   ]
  },
  {
   "cell_type": "code",
   "execution_count": null,
   "metadata": {},
   "outputs": [],
   "source": [
    "# Si quieres que una variable creada dentro de una función sea global, puedes usar la palabra clave global.\n",
    "\n",
    "x = \"awesome\"\n",
    "\n",
    "def myfunc():\n",
    "  global x\n",
    "  x = \"fantastic\"\n",
    "\n",
    "myfunc()\n",
    "\n",
    "print(\"Python is \" + x)"
   ]
  },
  {
   "cell_type": "markdown",
   "metadata": {},
   "source": [
    "5. Conjuntos (Sets):\n",
    "\n",
    "- set (conjunto / set): Colección de elementos únicos y no ordenados.\n",
    "- frozenset (conjunto inmutable / frozenset): Similar a set, pero inmutable."
   ]
  },
  {
   "cell_type": "code",
   "execution_count": 176,
   "metadata": {},
   "outputs": [],
   "source": [
    "colores = {\"rojo\", \"verde\", \"azul\"}  # set\n",
    "\n",
    "dias = frozenset([\"lunes\", \"martes\", \"miércoles\"])  # frozenset"
   ]
  },
  {
   "cell_type": "markdown",
   "metadata": {},
   "source": [
    "6. Diccionarios (Dictionaries):\n",
    "\n",
    "- dict (diccionario / dictionary): Colección no ordenada de pares clave-valor."
   ]
  },
  {
   "cell_type": "code",
   "execution_count": 178,
   "metadata": {},
   "outputs": [],
   "source": [
    "persona = {\"nombre\": \"Ana\", \n",
    "           \"edad\": 25}  "
   ]
  },
  {
   "cell_type": "code",
   "execution_count": null,
   "metadata": {},
   "outputs": [],
   "source": [
    "print(persona[\"nombre\"])\n",
    "\n",
    "print(persona[\"edad\"])\n",
    "\n",
    "print(type(persona))\n",
    "\n",
    "print(persona)"
   ]
  },
  {
   "cell_type": "markdown",
   "metadata": {},
   "source": [
    "7. Tipo especial (Special type):\n",
    "\n",
    "- NoneType: Representa la ausencia de valor; su único valor es None."
   ]
  },
  {
   "cell_type": "code",
   "execution_count": null,
   "metadata": {},
   "outputs": [],
   "source": [
    "resultado = None  # NoneType\n",
    "\n",
    "print(type(resultado))\n",
    "print(resultado)"
   ]
  },
  {
   "cell_type": "code",
   "execution_count": 184,
   "metadata": {},
   "outputs": [],
   "source": [
    "# podemos especificar el tipo de una variable\n",
    "\n",
    "x1 = str(\"Hello World\")\t# str\n",
    "x2 = int(20)\t# int\t\n",
    "x3 = float(20.5)\t# float\t\n",
    "x4 = complex(1j)\t# complex\t\n",
    "x5 = list((\"apple\", \"banana\", \"cherry\"))\t# list\t\n",
    "x6 = tuple((\"apple\", \"banana\", \"cherry\"))\t# tuple\t\n",
    "x7 = range(6)\t# range\t\n",
    "x8 = dict(name=\"John\", age=36)\t# dict\t\n",
    "x9 = set((\"apple\", \"banana\", \"cherry\"))\t# set\t\n",
    "x10 = frozenset((\"apple\", \"banana\", \"cherry\"))\t# frozenset\t\n",
    "x11 = bool(5)\t# bool\t\n",
    "x12 = bytes(5)\t# bytes\t\n",
    "x13 = bytearray(5)\t# bytearray\t\n",
    "x14 = memoryview(bytes(5)) # memoryview"
   ]
  },
  {
   "cell_type": "code",
   "execution_count": null,
   "metadata": {},
   "outputs": [],
   "source": [
    "print(type(x9))"
   ]
  },
  {
   "cell_type": "markdown",
   "metadata": {},
   "source": [
    "Otros operadores:\n",
    "\n",
    "| Operator |\tName |\tDescription\t| Example |\n",
    "|----------|---------|--------------|-------|\n",
    "| & |\tAND\t| Sets each bit to 1 if both bits are 1 |\tx & y\t|\n",
    "| \\| |OR\t| Sets each bit to 1 if one of two bits is 1 |\tx  \\| y\t|\n",
    "| ^\t| XOR\t|Sets each bit to 1 if only one of two bits is 1 |\tx ^ y\t|\n",
    "| ~\t| NOT\t| Inverts all the bits\t | ~x\t|\n",
    "| <<\t| Zero fill left shift |\tShift left by pushing zeros in from the right and let the leftmost bits fall off |\tx << 2\t|\n",
    "| >>\t| Signed right shift |\tShift right by pushing copies of the leftmost bit in from the left, and let the rightmost bits fall off |\tx >> 2 |"
   ]
  }
 ],
 "metadata": {
  "kernelspec": {
   "display_name": "python_test",
   "language": "python",
   "name": "python3"
  },
  "language_info": {
   "codemirror_mode": {
    "name": "ipython",
    "version": 3
   },
   "file_extension": ".py",
   "mimetype": "text/x-python",
   "name": "python",
   "nbconvert_exporter": "python",
   "pygments_lexer": "ipython3",
   "version": "3.9.18"
  }
 },
 "nbformat": 4,
 "nbformat_minor": 2
}
